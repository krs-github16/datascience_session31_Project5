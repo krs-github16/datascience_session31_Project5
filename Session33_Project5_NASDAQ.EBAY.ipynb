{
 "cells": [
  {
   "cell_type": "code",
   "execution_count": 1,
   "metadata": {},
   "outputs": [],
   "source": [
    "import pandas as pd \n",
    "import numpy as np \n",
    "import matplotlib.pyplot as plt \n",
    "from pandas.tools.plotting import autocorrelation_plot \n",
    "from statsmodels.graphics.tsaplots import plot_pacf \n",
    "from statsmodels.tsa.arima_model import ARIMA, ARMAResults \n",
    "import datetime \n",
    "import sys \n",
    "import seaborn as sns \n",
    "import statsmodels \n",
    "import statsmodels.stats.diagnostic as diag \n",
    "from statsmodels.tsa.stattools import adfuller \n"
   ]
  },
  {
   "cell_type": "code",
   "execution_count": null,
   "metadata": {},
   "outputs": [],
   "source": [
    "from scipy.stats.mstats import normaltest \n",
    " \n",
    "from matplotlib.pyplot import acorr \n",
    "plt.style.use('fivethirtyeight') \n",
    "%matplotlib inline \n",
    "ds = pd.read_csv('data_stocks.csv') \n",
    "ds.head() \n"
   ]
  },
  {
   "cell_type": "code",
   "execution_count": null,
   "metadata": {},
   "outputs": [],
   "source": [
    "ds['DATE'].dtypes"
   ]
  },
  {
   "cell_type": "code",
   "execution_count": null,
   "metadata": {},
   "outputs": [],
   "source": [
    "ds['DATE'] = pd.to_datetime(ds['DATE'], unit='s')"
   ]
  },
  {
   "cell_type": "code",
   "execution_count": null,
   "metadata": {},
   "outputs": [],
   "source": [
    "ds['DATE'].tail()"
   ]
  },
  {
   "cell_type": "code",
   "execution_count": null,
   "metadata": {},
   "outputs": [],
   "source": [
    "ds.index = ds['DATE']"
   ]
  },
  {
   "cell_type": "code",
   "execution_count": null,
   "metadata": {},
   "outputs": [],
   "source": [
    "\n",
    "ds.drop('DATE',axis = 1,inplace=True)"
   ]
  },
  {
   "cell_type": "code",
   "execution_count": null,
   "metadata": {},
   "outputs": [],
   "source": [
    "ds.tail()"
   ]
  },
  {
   "cell_type": "markdown",
   "metadata": {},
   "source": [
    "# Problem Statement: \n",
    "Pick up the following stocks and generate forecasts accordingly \n",
    " Stocks: \n",
    "5. NASDAQ.EBAY \n",
    "\n"
   ]
  },
  {
   "cell_type": "code",
   "execution_count": null,
   "metadata": {},
   "outputs": [],
   "source": [
    "ds_EBAY = ds[['NASDAQ.EBAY']].copy()\n"
   ]
  },
  {
   "cell_type": "code",
   "execution_count": null,
   "metadata": {},
   "outputs": [],
   "source": [
    "print(ds_EBAY.tail())\n"
   ]
  },
  {
   "cell_type": "code",
   "execution_count": null,
   "metadata": {},
   "outputs": [],
   "source": [
    "ds_EBAY.count()"
   ]
  },
  {
   "cell_type": "code",
   "execution_count": null,
   "metadata": {},
   "outputs": [],
   "source": [
    "ds_EBAY.plot()"
   ]
  },
  {
   "cell_type": "markdown",
   "metadata": {},
   "source": [
    "Stationary means mean,variance and covariance is constant over periods."
   ]
  },
  {
   "cell_type": "code",
   "execution_count": null,
   "metadata": {},
   "outputs": [],
   "source": [
    "from statsmodels.graphics.tsaplots import plot_acf\n",
    "plot_acf(ds_EBAY)"
   ]
  },
  {
   "cell_type": "markdown",
   "metadata": {},
   "source": [
    "# Converting series to stationary"
   ]
  },
  {
   "cell_type": "code",
   "execution_count": null,
   "metadata": {},
   "outputs": [],
   "source": [
    "\n",
    "ds_EBAY.shift(1)"
   ]
  },
  {
   "cell_type": "code",
   "execution_count": null,
   "metadata": {},
   "outputs": [],
   "source": [
    "X = ds_EBAY.values\n",
    "train = X[0:28886] # 28886 data as train data\n",
    "test = X[28886:] # 12380 data as test data\n",
    "print(train.size)\n",
    "print(test.size)\n",
    "predictions = []"
   ]
  },
  {
   "cell_type": "markdown",
   "metadata": {},
   "source": [
    "# ARIMA model"
   ]
  },
  {
   "cell_type": "code",
   "execution_count": null,
   "metadata": {},
   "outputs": [],
   "source": [
    "from statsmodels.tsa.arima_model import ARIMA"
   ]
  },
  {
   "cell_type": "code",
   "execution_count": 30,
   "metadata": {},
   "outputs": [],
   "source": [
    "\n",
    "import itertools\n",
    "p=d=q=range(0,6)\n",
    "pdq=list(itertools.product(p,d,q))"
   ]
  },
  {
   "cell_type": "code",
   "execution_count": null,
   "metadata": {},
   "outputs": [
    {
     "name": "stdout",
     "output_type": "stream",
     "text": [
      "(0, 0, 0) 124317.93290534393\n",
      "(0, 0, 1) 85271.48908067048\n",
      "(0, 1, 0) -80762.52187440007\n",
      "(0, 1, 1) -81075.63405539673\n",
      "(0, 1, 2) -81074.17286811695\n",
      "(0, 1, 3) -81090.00715673757\n",
      "(0, 1, 4) -81093.98472065314\n",
      "(0, 1, 5) -81101.87576670667\n",
      "(0, 2, 0) -63874.98955883522\n",
      "(0, 2, 1) -80619.27303639856\n",
      "(0, 2, 2) -80936.0464222823\n",
      "(1, 0, 0) -80762.97956367323\n",
      "(1, 0, 1) -81077.32276343508\n",
      "(1, 0, 2) -81075.79810984764\n",
      "(1, 0, 3) -81091.2645973408\n",
      "(1, 0, 4) -81095.05246453217\n",
      "(1, 0, 5) -81102.70785605855\n",
      "(1, 1, 0) -81067.89180999978\n",
      "(1, 1, 1) -81073.99649149469\n",
      "(1, 1, 2) -81099.24105674365\n",
      "(1, 1, 3) -81095.99043051685\n",
      "(1, 2, 0) -70003.48847377133\n",
      "(1, 2, 1) -80988.20233128445\n",
      "(1, 2, 2) -81013.42223740883\n",
      "(1, 2, 4) -81035.17791300318\n",
      "(1, 2, 5) -81031.5441123314\n",
      "(2, 0, 0) -81069.70670014125\n",
      "(2, 0, 1) -81075.64369735558\n",
      "(2, 0, 2) -81098.79258012856\n",
      "(2, 0, 3) -81096.91007329832\n",
      "(2, 1, 0) -81077.86550535493\n",
      "(2, 1, 1) -81094.92273708615\n",
      "(2, 1, 2) -81099.54378042465\n",
      "(2, 1, 3) -81102.23796795685\n",
      "(2, 2, 0) -72749.77110265121\n",
      "(2, 2, 1) -81061.88609768012\n",
      "(2, 2, 3) -81021.42807477155\n",
      "(2, 2, 4) -81043.83481787403\n",
      "(2, 2, 5) -81051.99626687188\n",
      "(3, 0, 0) -81079.3916367777\n",
      "(3, 0, 1) -81095.76897260471\n",
      "(3, 0, 2) -81100.54089701248\n",
      "(3, 0, 3) -81101.83695304484\n",
      "(3, 1, 0) -81094.16479611777\n",
      "(3, 1, 1) -81097.36753388915\n",
      "(3, 1, 2) -81096.26161208436\n",
      "(3, 2, 0) -74476.14609278417\n",
      "(3, 2, 1) -80969.1176243779\n",
      "(3, 2, 2) -81064.3465147605\n",
      "(3, 2, 3) -81001.41668831852\n",
      "(3, 2, 4) -80977.34812925897\n"
     ]
    }
   ],
   "source": [
    "\n",
    "import warnings\n",
    "warnings.filterwarnings('ignore')\n",
    "for param in pdq:\n",
    "    try:\n",
    "        model_arima = ARIMA(train, order=param)\n",
    "        model_arima_fit = model_arima.fit()\n",
    "        print(param,model_arima_fit.aic)\n",
    "    except:\n",
    "        continue"
   ]
  },
  {
   "cell_type": "code",
   "execution_count": 25,
   "metadata": {},
   "outputs": [
    {
     "name": "stdout",
     "output_type": "stream",
     "text": [
      "-64744.94423435074\n"
     ]
    }
   ],
   "source": [
    "\n",
    "#p,d,q \n",
    "#p -> Periods taken for auto regressive model\n",
    "#d -> Integrated order, difference\n",
    "#q -> Periods in moving average model\n",
    "model_arima = ARIMA(train, order=(4,1,4))\n",
    "model_arima_fit = model_arima.fit()\n",
    "print(model_arima_fit.aic)"
   ]
  },
  {
   "cell_type": "code",
   "execution_count": 26,
   "metadata": {},
   "outputs": [
    {
     "data": {
      "text/plain": [
       "array([150.61361658, 150.61508213, 150.61485932, ..., 153.58414297,\n",
       "       153.58438291, 153.58462284])"
      ]
     },
     "execution_count": 26,
     "metadata": {},
     "output_type": "execute_result"
    }
   ],
   "source": [
    "predictions = model_arima_fit.forecast(steps=12380)[0]\n",
    "predictions"
   ]
  },
  {
   "cell_type": "code",
   "execution_count": 27,
   "metadata": {},
   "outputs": [
    {
     "data": {
      "text/plain": [
       "[<matplotlib.lines.Line2D at 0x1ef1f9212e8>]"
      ]
     },
     "execution_count": 27,
     "metadata": {},
     "output_type": "execute_result"
    },
    {
     "data": {
      "image/png": "[encoded data removed]",
      "text/plain": [
       "<Figure size 432x288 with 1 Axes>"
      ]
     },
     "metadata": {
      "needs_background": "light"
     },
     "output_type": "display_data"
    }
   ],
   "source": [
    "plt.plot(test)\n",
    "plt.plot(predictions, color='red')"
   ]
  },
  {
   "cell_type": "code",
   "execution_count": 28,
   "metadata": {},
   "outputs": [
    {
     "data": {
      "text/plain": [
       "37.55078259648602"
      ]
     },
     "execution_count": 28,
     "metadata": {},
     "output_type": "execute_result"
    }
   ],
   "source": [
    "from sklearn.metrics import mean_squared_error\n",
    "mean_squared_error(test,predictions)"
   ]
  },
  {
   "cell_type": "markdown",
   "metadata": {},
   "source": [
    "\n",
    "# The above forecasting done for NASDAQ.EBAY"
   ]
  },
  {
   "cell_type": "code",
   "execution_count": null,
   "metadata": {},
   "outputs": [],
   "source": []
  }
 ],
 "metadata": {
  "kernelspec": {
   "display_name": "Python 3",
   "language": "python",
   "name": "python3"
  },
  "language_info": {
   "codemirror_mode": {
    "name": "ipython",
    "version": 3
   },
   "file_extension": ".py",
   "mimetype": "text/x-python",
   "name": "python",
   "nbconvert_exporter": "python",
   "pygments_lexer": "ipython3",
   "version": "3.7.0"
  }
 },
 "nbformat": 4,
 "nbformat_minor": 2
}
