{
 "cells": [
  {
   "cell_type": "code",
   "execution_count": 9,
   "metadata": {},
   "outputs": [],
   "source": [
    "import pandas as pd \n",
    "import numpy as np \n",
    "import matplotlib.pyplot as plt \n",
    "from pandas.tools.plotting import autocorrelation_plot \n",
    "from statsmodels.graphics.tsaplots import plot_pacf \n",
    "from statsmodels.tsa.arima_model import ARIMA, ARMAResults \n",
    "import datetime \n",
    "import sys \n",
    "import seaborn as sns \n",
    "import statsmodels \n",
    "import statsmodels.stats.diagnostic as diag \n",
    "from statsmodels.tsa.stattools import adfuller \n"
   ]
  },
  {
   "cell_type": "code",
   "execution_count": 10,
   "metadata": {},
   "outputs": [
    {
     "data": {
      "text/html": [
       "<div>\n",
       "<style scoped>\n",
       "    .dataframe tbody tr th:only-of-type {\n",
       "        vertical-align: middle;\n",
       "    }\n",
       "\n",
       "    .dataframe tbody tr th {\n",
       "        vertical-align: top;\n",
       "    }\n",
       "\n",
       "    .dataframe thead th {\n",
       "        text-align: right;\n",
       "    }\n",
       "</style>\n",
       "<table border=\"1\" class=\"dataframe\">\n",
       "  <thead>\n",
       "    <tr style=\"text-align: right;\">\n",
       "      <th></th>\n",
       "      <th>DATE</th>\n",
       "      <th>SP500</th>\n",
       "      <th>NASDAQ.AAL</th>\n",
       "      <th>NASDAQ.AAPL</th>\n",
       "      <th>NASDAQ.ADBE</th>\n",
       "      <th>NASDAQ.ADI</th>\n",
       "      <th>NASDAQ.ADP</th>\n",
       "      <th>NASDAQ.ADSK</th>\n",
       "      <th>NASDAQ.AKAM</th>\n",
       "      <th>NASDAQ.ALXN</th>\n",
       "      <th>...</th>\n",
       "      <th>NYSE.WYN</th>\n",
       "      <th>NYSE.XEC</th>\n",
       "      <th>NYSE.XEL</th>\n",
       "      <th>NYSE.XL</th>\n",
       "      <th>NYSE.XOM</th>\n",
       "      <th>NYSE.XRX</th>\n",
       "      <th>NYSE.XYL</th>\n",
       "      <th>NYSE.YUM</th>\n",
       "      <th>NYSE.ZBH</th>\n",
       "      <th>NYSE.ZTS</th>\n",
       "    </tr>\n",
       "  </thead>\n",
       "  <tbody>\n",
       "    <tr>\n",
       "      <th>0</th>\n",
       "      <td>1491226200</td>\n",
       "      <td>2363.6101</td>\n",
       "      <td>42.3300</td>\n",
       "      <td>143.6800</td>\n",
       "      <td>129.6300</td>\n",
       "      <td>82.040</td>\n",
       "      <td>102.2300</td>\n",
       "      <td>85.2200</td>\n",
       "      <td>59.760</td>\n",
       "      <td>121.52</td>\n",
       "      <td>...</td>\n",
       "      <td>84.370</td>\n",
       "      <td>119.035</td>\n",
       "      <td>44.40</td>\n",
       "      <td>39.88</td>\n",
       "      <td>82.03</td>\n",
       "      <td>7.36</td>\n",
       "      <td>50.22</td>\n",
       "      <td>63.86</td>\n",
       "      <td>122.000</td>\n",
       "      <td>53.350</td>\n",
       "    </tr>\n",
       "    <tr>\n",
       "      <th>1</th>\n",
       "      <td>1491226260</td>\n",
       "      <td>2364.1001</td>\n",
       "      <td>42.3600</td>\n",
       "      <td>143.7000</td>\n",
       "      <td>130.3200</td>\n",
       "      <td>82.080</td>\n",
       "      <td>102.1400</td>\n",
       "      <td>85.6500</td>\n",
       "      <td>59.840</td>\n",
       "      <td>121.48</td>\n",
       "      <td>...</td>\n",
       "      <td>84.370</td>\n",
       "      <td>119.035</td>\n",
       "      <td>44.11</td>\n",
       "      <td>39.88</td>\n",
       "      <td>82.03</td>\n",
       "      <td>7.38</td>\n",
       "      <td>50.22</td>\n",
       "      <td>63.74</td>\n",
       "      <td>121.770</td>\n",
       "      <td>53.350</td>\n",
       "    </tr>\n",
       "    <tr>\n",
       "      <th>2</th>\n",
       "      <td>1491226320</td>\n",
       "      <td>2362.6799</td>\n",
       "      <td>42.3100</td>\n",
       "      <td>143.6901</td>\n",
       "      <td>130.2250</td>\n",
       "      <td>82.030</td>\n",
       "      <td>102.2125</td>\n",
       "      <td>85.5100</td>\n",
       "      <td>59.795</td>\n",
       "      <td>121.93</td>\n",
       "      <td>...</td>\n",
       "      <td>84.585</td>\n",
       "      <td>119.260</td>\n",
       "      <td>44.09</td>\n",
       "      <td>39.98</td>\n",
       "      <td>82.02</td>\n",
       "      <td>7.36</td>\n",
       "      <td>50.12</td>\n",
       "      <td>63.75</td>\n",
       "      <td>121.700</td>\n",
       "      <td>53.365</td>\n",
       "    </tr>\n",
       "    <tr>\n",
       "      <th>3</th>\n",
       "      <td>1491226380</td>\n",
       "      <td>2364.3101</td>\n",
       "      <td>42.3700</td>\n",
       "      <td>143.6400</td>\n",
       "      <td>130.0729</td>\n",
       "      <td>82.000</td>\n",
       "      <td>102.1400</td>\n",
       "      <td>85.4872</td>\n",
       "      <td>59.620</td>\n",
       "      <td>121.44</td>\n",
       "      <td>...</td>\n",
       "      <td>84.460</td>\n",
       "      <td>119.260</td>\n",
       "      <td>44.25</td>\n",
       "      <td>39.99</td>\n",
       "      <td>82.02</td>\n",
       "      <td>7.35</td>\n",
       "      <td>50.16</td>\n",
       "      <td>63.88</td>\n",
       "      <td>121.700</td>\n",
       "      <td>53.380</td>\n",
       "    </tr>\n",
       "    <tr>\n",
       "      <th>4</th>\n",
       "      <td>1491226440</td>\n",
       "      <td>2364.8501</td>\n",
       "      <td>42.5378</td>\n",
       "      <td>143.6600</td>\n",
       "      <td>129.8800</td>\n",
       "      <td>82.035</td>\n",
       "      <td>102.0600</td>\n",
       "      <td>85.7001</td>\n",
       "      <td>59.620</td>\n",
       "      <td>121.60</td>\n",
       "      <td>...</td>\n",
       "      <td>84.470</td>\n",
       "      <td>119.610</td>\n",
       "      <td>44.11</td>\n",
       "      <td>39.96</td>\n",
       "      <td>82.03</td>\n",
       "      <td>7.36</td>\n",
       "      <td>50.20</td>\n",
       "      <td>63.91</td>\n",
       "      <td>121.695</td>\n",
       "      <td>53.240</td>\n",
       "    </tr>\n",
       "  </tbody>\n",
       "</table>\n",
       "<p>5 rows × 502 columns</p>\n",
       "</div>"
      ],
      "text/plain": [
       "         DATE      SP500  NASDAQ.AAL  NASDAQ.AAPL  NASDAQ.ADBE  NASDAQ.ADI  \\\n",
       "0  1491226200  2363.6101     42.3300     143.6800     129.6300      82.040   \n",
       "1  1491226260  2364.1001     42.3600     143.7000     130.3200      82.080   \n",
       "2  1491226320  2362.6799     42.3100     143.6901     130.2250      82.030   \n",
       "3  1491226380  2364.3101     42.3700     143.6400     130.0729      82.000   \n",
       "4  1491226440  2364.8501     42.5378     143.6600     129.8800      82.035   \n",
       "\n",
       "   NASDAQ.ADP  NASDAQ.ADSK  NASDAQ.AKAM  NASDAQ.ALXN    ...     NYSE.WYN  \\\n",
       "0    102.2300      85.2200       59.760       121.52    ...       84.370   \n",
       "1    102.1400      85.6500       59.840       121.48    ...       84.370   \n",
       "2    102.2125      85.5100       59.795       121.93    ...       84.585   \n",
       "3    102.1400      85.4872       59.620       121.44    ...       84.460   \n",
       "4    102.0600      85.7001       59.620       121.60    ...       84.470   \n",
       "\n",
       "   NYSE.XEC  NYSE.XEL  NYSE.XL  NYSE.XOM  NYSE.XRX  NYSE.XYL  NYSE.YUM  \\\n",
       "0   119.035     44.40    39.88     82.03      7.36     50.22     63.86   \n",
       "1   119.035     44.11    39.88     82.03      7.38     50.22     63.74   \n",
       "2   119.260     44.09    39.98     82.02      7.36     50.12     63.75   \n",
       "3   119.260     44.25    39.99     82.02      7.35     50.16     63.88   \n",
       "4   119.610     44.11    39.96     82.03      7.36     50.20     63.91   \n",
       "\n",
       "   NYSE.ZBH  NYSE.ZTS  \n",
       "0   122.000    53.350  \n",
       "1   121.770    53.350  \n",
       "2   121.700    53.365  \n",
       "3   121.700    53.380  \n",
       "4   121.695    53.240  \n",
       "\n",
       "[5 rows x 502 columns]"
      ]
     },
     "execution_count": 10,
     "metadata": {},
     "output_type": "execute_result"
    }
   ],
   "source": [
    "from scipy.stats.mstats import normaltest \n",
    " \n",
    "from matplotlib.pyplot import acorr \n",
    "plt.style.use('fivethirtyeight') \n",
    "%matplotlib inline \n",
    "ds = pd.read_csv('data_stocks.csv') \n",
    "ds.head() \n"
   ]
  },
  {
   "cell_type": "code",
   "execution_count": 11,
   "metadata": {},
   "outputs": [
    {
     "data": {
      "text/plain": [
       "dtype('int64')"
      ]
     },
     "execution_count": 11,
     "metadata": {},
     "output_type": "execute_result"
    }
   ],
   "source": [
    "ds['DATE'].dtypes"
   ]
  },
  {
   "cell_type": "code",
   "execution_count": 12,
   "metadata": {},
   "outputs": [],
   "source": [
    "ds['DATE'] = pd.to_datetime(ds['DATE'], unit='s')"
   ]
  },
  {
   "cell_type": "code",
   "execution_count": 13,
   "metadata": {},
   "outputs": [
    {
     "data": {
      "text/plain": [
       "41261   2017-08-31 19:56:00\n",
       "41262   2017-08-31 19:57:00\n",
       "41263   2017-08-31 19:58:00\n",
       "41264   2017-08-31 19:59:00\n",
       "41265   2017-08-31 20:00:00\n",
       "Name: DATE, dtype: datetime64[ns]"
      ]
     },
     "execution_count": 13,
     "metadata": {},
     "output_type": "execute_result"
    }
   ],
   "source": [
    "ds['DATE'].tail()"
   ]
  },
  {
   "cell_type": "code",
   "execution_count": 14,
   "metadata": {},
   "outputs": [],
   "source": [
    "ds.index = ds['DATE']"
   ]
  },
  {
   "cell_type": "code",
   "execution_count": 15,
   "metadata": {},
   "outputs": [],
   "source": [
    "\n",
    "ds.drop('DATE',axis = 1,inplace=True)"
   ]
  },
  {
   "cell_type": "code",
   "execution_count": 16,
   "metadata": {},
   "outputs": [
    {
     "data": {
      "text/html": [
       "<div>\n",
       "<style scoped>\n",
       "    .dataframe tbody tr th:only-of-type {\n",
       "        vertical-align: middle;\n",
       "    }\n",
       "\n",
       "    .dataframe tbody tr th {\n",
       "        vertical-align: top;\n",
       "    }\n",
       "\n",
       "    .dataframe thead th {\n",
       "        text-align: right;\n",
       "    }\n",
       "</style>\n",
       "<table border=\"1\" class=\"dataframe\">\n",
       "  <thead>\n",
       "    <tr style=\"text-align: right;\">\n",
       "      <th></th>\n",
       "      <th>SP500</th>\n",
       "      <th>NASDAQ.AAL</th>\n",
       "      <th>NASDAQ.AAPL</th>\n",
       "      <th>NASDAQ.ADBE</th>\n",
       "      <th>NASDAQ.ADI</th>\n",
       "      <th>NASDAQ.ADP</th>\n",
       "      <th>NASDAQ.ADSK</th>\n",
       "      <th>NASDAQ.AKAM</th>\n",
       "      <th>NASDAQ.ALXN</th>\n",
       "      <th>NASDAQ.AMAT</th>\n",
       "      <th>...</th>\n",
       "      <th>NYSE.WYN</th>\n",
       "      <th>NYSE.XEC</th>\n",
       "      <th>NYSE.XEL</th>\n",
       "      <th>NYSE.XL</th>\n",
       "      <th>NYSE.XOM</th>\n",
       "      <th>NYSE.XRX</th>\n",
       "      <th>NYSE.XYL</th>\n",
       "      <th>NYSE.YUM</th>\n",
       "      <th>NYSE.ZBH</th>\n",
       "      <th>NYSE.ZTS</th>\n",
       "    </tr>\n",
       "    <tr>\n",
       "      <th>DATE</th>\n",
       "      <th></th>\n",
       "      <th></th>\n",
       "      <th></th>\n",
       "      <th></th>\n",
       "      <th></th>\n",
       "      <th></th>\n",
       "      <th></th>\n",
       "      <th></th>\n",
       "      <th></th>\n",
       "      <th></th>\n",
       "      <th></th>\n",
       "      <th></th>\n",
       "      <th></th>\n",
       "      <th></th>\n",
       "      <th></th>\n",
       "      <th></th>\n",
       "      <th></th>\n",
       "      <th></th>\n",
       "      <th></th>\n",
       "      <th></th>\n",
       "      <th></th>\n",
       "    </tr>\n",
       "  </thead>\n",
       "  <tbody>\n",
       "    <tr>\n",
       "      <th>2017-08-31 19:56:00</th>\n",
       "      <td>2472.22</td>\n",
       "      <td>44.72</td>\n",
       "      <td>164.11</td>\n",
       "      <td>155.090</td>\n",
       "      <td>83.67</td>\n",
       "      <td>106.565</td>\n",
       "      <td>114.49</td>\n",
       "      <td>47.150</td>\n",
       "      <td>142.425</td>\n",
       "      <td>45.130</td>\n",
       "      <td>...</td>\n",
       "      <td>99.675</td>\n",
       "      <td>99.53</td>\n",
       "      <td>49.485</td>\n",
       "      <td>40.955</td>\n",
       "      <td>76.360</td>\n",
       "      <td>32.285</td>\n",
       "      <td>62.110</td>\n",
       "      <td>76.88</td>\n",
       "      <td>114.31</td>\n",
       "      <td>62.7250</td>\n",
       "    </tr>\n",
       "    <tr>\n",
       "      <th>2017-08-31 19:57:00</th>\n",
       "      <td>2471.77</td>\n",
       "      <td>44.73</td>\n",
       "      <td>164.12</td>\n",
       "      <td>155.160</td>\n",
       "      <td>83.65</td>\n",
       "      <td>106.590</td>\n",
       "      <td>114.52</td>\n",
       "      <td>47.150</td>\n",
       "      <td>142.450</td>\n",
       "      <td>45.130</td>\n",
       "      <td>...</td>\n",
       "      <td>99.730</td>\n",
       "      <td>99.63</td>\n",
       "      <td>49.480</td>\n",
       "      <td>40.960</td>\n",
       "      <td>76.370</td>\n",
       "      <td>32.295</td>\n",
       "      <td>62.100</td>\n",
       "      <td>76.90</td>\n",
       "      <td>114.33</td>\n",
       "      <td>62.7100</td>\n",
       "    </tr>\n",
       "    <tr>\n",
       "      <th>2017-08-31 19:58:00</th>\n",
       "      <td>2470.03</td>\n",
       "      <td>44.74</td>\n",
       "      <td>164.01</td>\n",
       "      <td>155.065</td>\n",
       "      <td>83.62</td>\n",
       "      <td>106.520</td>\n",
       "      <td>114.47</td>\n",
       "      <td>47.150</td>\n",
       "      <td>142.330</td>\n",
       "      <td>45.135</td>\n",
       "      <td>...</td>\n",
       "      <td>99.735</td>\n",
       "      <td>99.64</td>\n",
       "      <td>49.495</td>\n",
       "      <td>40.940</td>\n",
       "      <td>76.315</td>\n",
       "      <td>32.290</td>\n",
       "      <td>62.090</td>\n",
       "      <td>76.88</td>\n",
       "      <td>114.31</td>\n",
       "      <td>62.6850</td>\n",
       "    </tr>\n",
       "    <tr>\n",
       "      <th>2017-08-31 19:59:00</th>\n",
       "      <td>2471.49</td>\n",
       "      <td>44.71</td>\n",
       "      <td>163.88</td>\n",
       "      <td>154.960</td>\n",
       "      <td>83.58</td>\n",
       "      <td>106.400</td>\n",
       "      <td>114.33</td>\n",
       "      <td>47.135</td>\n",
       "      <td>142.170</td>\n",
       "      <td>45.065</td>\n",
       "      <td>...</td>\n",
       "      <td>99.700</td>\n",
       "      <td>99.63</td>\n",
       "      <td>49.485</td>\n",
       "      <td>40.925</td>\n",
       "      <td>76.300</td>\n",
       "      <td>32.275</td>\n",
       "      <td>62.075</td>\n",
       "      <td>76.83</td>\n",
       "      <td>114.23</td>\n",
       "      <td>62.6301</td>\n",
       "    </tr>\n",
       "    <tr>\n",
       "      <th>2017-08-31 20:00:00</th>\n",
       "      <td>2471.49</td>\n",
       "      <td>44.74</td>\n",
       "      <td>163.98</td>\n",
       "      <td>155.160</td>\n",
       "      <td>83.69</td>\n",
       "      <td>106.470</td>\n",
       "      <td>114.46</td>\n",
       "      <td>47.150</td>\n",
       "      <td>142.410</td>\n",
       "      <td>45.120</td>\n",
       "      <td>...</td>\n",
       "      <td>99.670</td>\n",
       "      <td>99.64</td>\n",
       "      <td>49.490</td>\n",
       "      <td>40.940</td>\n",
       "      <td>76.320</td>\n",
       "      <td>32.270</td>\n",
       "      <td>62.070</td>\n",
       "      <td>76.81</td>\n",
       "      <td>114.28</td>\n",
       "      <td>62.6800</td>\n",
       "    </tr>\n",
       "  </tbody>\n",
       "</table>\n",
       "<p>5 rows × 501 columns</p>\n",
       "</div>"
      ],
      "text/plain": [
       "                       SP500  NASDAQ.AAL  NASDAQ.AAPL  NASDAQ.ADBE  \\\n",
       "DATE                                                                 \n",
       "2017-08-31 19:56:00  2472.22       44.72       164.11      155.090   \n",
       "2017-08-31 19:57:00  2471.77       44.73       164.12      155.160   \n",
       "2017-08-31 19:58:00  2470.03       44.74       164.01      155.065   \n",
       "2017-08-31 19:59:00  2471.49       44.71       163.88      154.960   \n",
       "2017-08-31 20:00:00  2471.49       44.74       163.98      155.160   \n",
       "\n",
       "                     NASDAQ.ADI  NASDAQ.ADP  NASDAQ.ADSK  NASDAQ.AKAM  \\\n",
       "DATE                                                                    \n",
       "2017-08-31 19:56:00       83.67     106.565       114.49       47.150   \n",
       "2017-08-31 19:57:00       83.65     106.590       114.52       47.150   \n",
       "2017-08-31 19:58:00       83.62     106.520       114.47       47.150   \n",
       "2017-08-31 19:59:00       83.58     106.400       114.33       47.135   \n",
       "2017-08-31 20:00:00       83.69     106.470       114.46       47.150   \n",
       "\n",
       "                     NASDAQ.ALXN  NASDAQ.AMAT    ...     NYSE.WYN  NYSE.XEC  \\\n",
       "DATE                                             ...                          \n",
       "2017-08-31 19:56:00      142.425       45.130    ...       99.675     99.53   \n",
       "2017-08-31 19:57:00      142.450       45.130    ...       99.730     99.63   \n",
       "2017-08-31 19:58:00      142.330       45.135    ...       99.735     99.64   \n",
       "2017-08-31 19:59:00      142.170       45.065    ...       99.700     99.63   \n",
       "2017-08-31 20:00:00      142.410       45.120    ...       99.670     99.64   \n",
       "\n",
       "                     NYSE.XEL  NYSE.XL  NYSE.XOM  NYSE.XRX  NYSE.XYL  \\\n",
       "DATE                                                                   \n",
       "2017-08-31 19:56:00    49.485   40.955    76.360    32.285    62.110   \n",
       "2017-08-31 19:57:00    49.480   40.960    76.370    32.295    62.100   \n",
       "2017-08-31 19:58:00    49.495   40.940    76.315    32.290    62.090   \n",
       "2017-08-31 19:59:00    49.485   40.925    76.300    32.275    62.075   \n",
       "2017-08-31 20:00:00    49.490   40.940    76.320    32.270    62.070   \n",
       "\n",
       "                     NYSE.YUM  NYSE.ZBH  NYSE.ZTS  \n",
       "DATE                                               \n",
       "2017-08-31 19:56:00     76.88    114.31   62.7250  \n",
       "2017-08-31 19:57:00     76.90    114.33   62.7100  \n",
       "2017-08-31 19:58:00     76.88    114.31   62.6850  \n",
       "2017-08-31 19:59:00     76.83    114.23   62.6301  \n",
       "2017-08-31 20:00:00     76.81    114.28   62.6800  \n",
       "\n",
       "[5 rows x 501 columns]"
      ]
     },
     "execution_count": 16,
     "metadata": {},
     "output_type": "execute_result"
    }
   ],
   "source": [
    "ds.tail()"
   ]
  },
  {
   "cell_type": "markdown",
   "metadata": {},
   "source": [
    "# Problem Statement: \n",
    "Pick up the following stocks and generate forecasts accordingly \n",
    " Stocks: \n",
    "3. NASDAQ.CBOE \n",
    "\n"
   ]
  },
  {
   "cell_type": "code",
   "execution_count": 17,
   "metadata": {},
   "outputs": [],
   "source": [
    "ds_CBOE = ds[['NASDAQ.CBOE']].copy()\n"
   ]
  },
  {
   "cell_type": "code",
   "execution_count": 18,
   "metadata": {},
   "outputs": [
    {
     "name": "stdout",
     "output_type": "stream",
     "text": [
      "                     NASDAQ.CBOE\n",
      "DATE                            \n",
      "2017-08-31 19:56:00       100.89\n",
      "2017-08-31 19:57:00       100.88\n",
      "2017-08-31 19:58:00       100.86\n",
      "2017-08-31 19:59:00       100.83\n",
      "2017-08-31 20:00:00       100.89\n"
     ]
    }
   ],
   "source": [
    "print(ds_CBOE.tail())\n"
   ]
  },
  {
   "cell_type": "code",
   "execution_count": 19,
   "metadata": {},
   "outputs": [
    {
     "data": {
      "text/plain": [
       "NASDAQ.CBOE    41266\n",
       "dtype: int64"
      ]
     },
     "execution_count": 19,
     "metadata": {},
     "output_type": "execute_result"
    }
   ],
   "source": [
    "ds_CBOE.count()"
   ]
  },
  {
   "cell_type": "code",
   "execution_count": 22,
   "metadata": {},
   "outputs": [
    {
     "data": {
      "text/plain": [
       "<matplotlib.axes._subplots.AxesSubplot at 0x1aec2282cc0>"
      ]
     },
     "execution_count": 22,
     "metadata": {},
     "output_type": "execute_result"
    },
    {
     "data": {
      "image/png": "[encoded data removed]",
      "text/plain": [
       "<Figure size 432x288 with 1 Axes>"
      ]
     },
     "metadata": {
      "needs_background": "light"
     },
     "output_type": "display_data"
    }
   ],
   "source": [
    "ds_CBOE.plot()"
   ]
  },
  {
   "cell_type": "markdown",
   "metadata": {},
   "source": [
    "Stationary means mean,variance and covariance is constant over periods."
   ]
  },
  {
   "cell_type": "code",
   "execution_count": 23,
   "metadata": {},
   "outputs": [
    {
     "data": {
      "image/png": "[encoded data removed]",
      "text/plain": [
       "<Figure size 432x288 with 1 Axes>"
      ]
     },
     "execution_count": 23,
     "metadata": {},
     "output_type": "execute_result"
    },
    {
     "data": {
      "image/png": "[encoded data removed]",
      "text/plain": [
       "<Figure size 432x288 with 1 Axes>"
      ]
     },
     "metadata": {
      "needs_background": "light"
     },
     "output_type": "display_data"
    }
   ],
   "source": [
    "from statsmodels.graphics.tsaplots import plot_acf\n",
    "plot_acf(ds_CBOE)"
   ]
  },
  {
   "cell_type": "markdown",
   "metadata": {},
   "source": [
    "# Converting series to stationary"
   ]
  },
  {
   "cell_type": "code",
   "execution_count": 24,
   "metadata": {},
   "outputs": [
    {
     "data": {
      "text/html": [
       "<div>\n",
       "<style scoped>\n",
       "    .dataframe tbody tr th:only-of-type {\n",
       "        vertical-align: middle;\n",
       "    }\n",
       "\n",
       "    .dataframe tbody tr th {\n",
       "        vertical-align: top;\n",
       "    }\n",
       "\n",
       "    .dataframe thead th {\n",
       "        text-align: right;\n",
       "    }\n",
       "</style>\n",
       "<table border=\"1\" class=\"dataframe\">\n",
       "  <thead>\n",
       "    <tr style=\"text-align: right;\">\n",
       "      <th></th>\n",
       "      <th>NASDAQ.CBOE</th>\n",
       "    </tr>\n",
       "    <tr>\n",
       "      <th>DATE</th>\n",
       "      <th></th>\n",
       "    </tr>\n",
       "  </thead>\n",
       "  <tbody>\n",
       "    <tr>\n",
       "      <th>2017-04-03 13:30:00</th>\n",
       "      <td>NaN</td>\n",
       "    </tr>\n",
       "    <tr>\n",
       "      <th>2017-04-03 13:31:00</th>\n",
       "      <td>81.0300</td>\n",
       "    </tr>\n",
       "    <tr>\n",
       "      <th>2017-04-03 13:32:00</th>\n",
       "      <td>81.2100</td>\n",
       "    </tr>\n",
       "    <tr>\n",
       "      <th>2017-04-03 13:33:00</th>\n",
       "      <td>81.2100</td>\n",
       "    </tr>\n",
       "    <tr>\n",
       "      <th>2017-04-03 13:34:00</th>\n",
       "      <td>81.1300</td>\n",
       "    </tr>\n",
       "    <tr>\n",
       "      <th>2017-04-03 13:35:00</th>\n",
       "      <td>81.1200</td>\n",
       "    </tr>\n",
       "    <tr>\n",
       "      <th>2017-04-03 13:36:00</th>\n",
       "      <td>81.2200</td>\n",
       "    </tr>\n",
       "    <tr>\n",
       "      <th>2017-04-03 13:37:00</th>\n",
       "      <td>81.1600</td>\n",
       "    </tr>\n",
       "    <tr>\n",
       "      <th>2017-04-03 13:38:00</th>\n",
       "      <td>81.1600</td>\n",
       "    </tr>\n",
       "    <tr>\n",
       "      <th>2017-04-03 13:39:00</th>\n",
       "      <td>81.1600</td>\n",
       "    </tr>\n",
       "    <tr>\n",
       "      <th>2017-04-03 13:40:00</th>\n",
       "      <td>81.1300</td>\n",
       "    </tr>\n",
       "    <tr>\n",
       "      <th>2017-04-03 13:41:00</th>\n",
       "      <td>81.1800</td>\n",
       "    </tr>\n",
       "    <tr>\n",
       "      <th>2017-04-03 13:42:00</th>\n",
       "      <td>81.1850</td>\n",
       "    </tr>\n",
       "    <tr>\n",
       "      <th>2017-04-03 13:43:00</th>\n",
       "      <td>81.2000</td>\n",
       "    </tr>\n",
       "    <tr>\n",
       "      <th>2017-04-03 13:44:00</th>\n",
       "      <td>81.2900</td>\n",
       "    </tr>\n",
       "    <tr>\n",
       "      <th>2017-04-03 13:45:00</th>\n",
       "      <td>81.4100</td>\n",
       "    </tr>\n",
       "    <tr>\n",
       "      <th>2017-04-03 13:46:00</th>\n",
       "      <td>81.3500</td>\n",
       "    </tr>\n",
       "    <tr>\n",
       "      <th>2017-04-03 13:47:00</th>\n",
       "      <td>81.1740</td>\n",
       "    </tr>\n",
       "    <tr>\n",
       "      <th>2017-04-03 13:48:00</th>\n",
       "      <td>80.9790</td>\n",
       "    </tr>\n",
       "    <tr>\n",
       "      <th>2017-04-03 13:49:00</th>\n",
       "      <td>80.9700</td>\n",
       "    </tr>\n",
       "    <tr>\n",
       "      <th>2017-04-03 13:50:00</th>\n",
       "      <td>80.9800</td>\n",
       "    </tr>\n",
       "    <tr>\n",
       "      <th>2017-04-03 13:51:00</th>\n",
       "      <td>80.9866</td>\n",
       "    </tr>\n",
       "    <tr>\n",
       "      <th>2017-04-03 13:52:00</th>\n",
       "      <td>81.0500</td>\n",
       "    </tr>\n",
       "    <tr>\n",
       "      <th>2017-04-03 13:53:00</th>\n",
       "      <td>81.0500</td>\n",
       "    </tr>\n",
       "    <tr>\n",
       "      <th>2017-04-03 13:54:00</th>\n",
       "      <td>81.0900</td>\n",
       "    </tr>\n",
       "    <tr>\n",
       "      <th>2017-04-03 13:55:00</th>\n",
       "      <td>81.0900</td>\n",
       "    </tr>\n",
       "    <tr>\n",
       "      <th>2017-04-03 13:56:00</th>\n",
       "      <td>81.1300</td>\n",
       "    </tr>\n",
       "    <tr>\n",
       "      <th>2017-04-03 13:57:00</th>\n",
       "      <td>81.1000</td>\n",
       "    </tr>\n",
       "    <tr>\n",
       "      <th>2017-04-03 13:58:00</th>\n",
       "      <td>81.0650</td>\n",
       "    </tr>\n",
       "    <tr>\n",
       "      <th>2017-04-03 13:59:00</th>\n",
       "      <td>81.0400</td>\n",
       "    </tr>\n",
       "    <tr>\n",
       "      <th>...</th>\n",
       "      <td>...</td>\n",
       "    </tr>\n",
       "    <tr>\n",
       "      <th>2017-08-31 19:31:00</th>\n",
       "      <td>101.1000</td>\n",
       "    </tr>\n",
       "    <tr>\n",
       "      <th>2017-08-31 19:32:00</th>\n",
       "      <td>101.0600</td>\n",
       "    </tr>\n",
       "    <tr>\n",
       "      <th>2017-08-31 19:33:00</th>\n",
       "      <td>101.0000</td>\n",
       "    </tr>\n",
       "    <tr>\n",
       "      <th>2017-08-31 19:34:00</th>\n",
       "      <td>101.0200</td>\n",
       "    </tr>\n",
       "    <tr>\n",
       "      <th>2017-08-31 19:35:00</th>\n",
       "      <td>101.0200</td>\n",
       "    </tr>\n",
       "    <tr>\n",
       "      <th>2017-08-31 19:36:00</th>\n",
       "      <td>101.0000</td>\n",
       "    </tr>\n",
       "    <tr>\n",
       "      <th>2017-08-31 19:37:00</th>\n",
       "      <td>101.0150</td>\n",
       "    </tr>\n",
       "    <tr>\n",
       "      <th>2017-08-31 19:38:00</th>\n",
       "      <td>101.0150</td>\n",
       "    </tr>\n",
       "    <tr>\n",
       "      <th>2017-08-31 19:39:00</th>\n",
       "      <td>101.0125</td>\n",
       "    </tr>\n",
       "    <tr>\n",
       "      <th>2017-08-31 19:40:00</th>\n",
       "      <td>101.0000</td>\n",
       "    </tr>\n",
       "    <tr>\n",
       "      <th>2017-08-31 19:41:00</th>\n",
       "      <td>101.0200</td>\n",
       "    </tr>\n",
       "    <tr>\n",
       "      <th>2017-08-31 19:42:00</th>\n",
       "      <td>101.0199</td>\n",
       "    </tr>\n",
       "    <tr>\n",
       "      <th>2017-08-31 19:43:00</th>\n",
       "      <td>100.9500</td>\n",
       "    </tr>\n",
       "    <tr>\n",
       "      <th>2017-08-31 19:44:00</th>\n",
       "      <td>100.9600</td>\n",
       "    </tr>\n",
       "    <tr>\n",
       "      <th>2017-08-31 19:45:00</th>\n",
       "      <td>100.9700</td>\n",
       "    </tr>\n",
       "    <tr>\n",
       "      <th>2017-08-31 19:46:00</th>\n",
       "      <td>100.9400</td>\n",
       "    </tr>\n",
       "    <tr>\n",
       "      <th>2017-08-31 19:47:00</th>\n",
       "      <td>100.9150</td>\n",
       "    </tr>\n",
       "    <tr>\n",
       "      <th>2017-08-31 19:48:00</th>\n",
       "      <td>100.9100</td>\n",
       "    </tr>\n",
       "    <tr>\n",
       "      <th>2017-08-31 19:49:00</th>\n",
       "      <td>100.9000</td>\n",
       "    </tr>\n",
       "    <tr>\n",
       "      <th>2017-08-31 19:50:00</th>\n",
       "      <td>100.8500</td>\n",
       "    </tr>\n",
       "    <tr>\n",
       "      <th>2017-08-31 19:51:00</th>\n",
       "      <td>100.9000</td>\n",
       "    </tr>\n",
       "    <tr>\n",
       "      <th>2017-08-31 19:52:00</th>\n",
       "      <td>100.9200</td>\n",
       "    </tr>\n",
       "    <tr>\n",
       "      <th>2017-08-31 19:53:00</th>\n",
       "      <td>100.8800</td>\n",
       "    </tr>\n",
       "    <tr>\n",
       "      <th>2017-08-31 19:54:00</th>\n",
       "      <td>100.8900</td>\n",
       "    </tr>\n",
       "    <tr>\n",
       "      <th>2017-08-31 19:55:00</th>\n",
       "      <td>100.8800</td>\n",
       "    </tr>\n",
       "    <tr>\n",
       "      <th>2017-08-31 19:56:00</th>\n",
       "      <td>100.8899</td>\n",
       "    </tr>\n",
       "    <tr>\n",
       "      <th>2017-08-31 19:57:00</th>\n",
       "      <td>100.8900</td>\n",
       "    </tr>\n",
       "    <tr>\n",
       "      <th>2017-08-31 19:58:00</th>\n",
       "      <td>100.8800</td>\n",
       "    </tr>\n",
       "    <tr>\n",
       "      <th>2017-08-31 19:59:00</th>\n",
       "      <td>100.8600</td>\n",
       "    </tr>\n",
       "    <tr>\n",
       "      <th>2017-08-31 20:00:00</th>\n",
       "      <td>100.8300</td>\n",
       "    </tr>\n",
       "  </tbody>\n",
       "</table>\n",
       "<p>41266 rows × 1 columns</p>\n",
       "</div>"
      ],
      "text/plain": [
       "                     NASDAQ.CBOE\n",
       "DATE                            \n",
       "2017-04-03 13:30:00          NaN\n",
       "2017-04-03 13:31:00      81.0300\n",
       "2017-04-03 13:32:00      81.2100\n",
       "2017-04-03 13:33:00      81.2100\n",
       "2017-04-03 13:34:00      81.1300\n",
       "2017-04-03 13:35:00      81.1200\n",
       "2017-04-03 13:36:00      81.2200\n",
       "2017-04-03 13:37:00      81.1600\n",
       "2017-04-03 13:38:00      81.1600\n",
       "2017-04-03 13:39:00      81.1600\n",
       "2017-04-03 13:40:00      81.1300\n",
       "2017-04-03 13:41:00      81.1800\n",
       "2017-04-03 13:42:00      81.1850\n",
       "2017-04-03 13:43:00      81.2000\n",
       "2017-04-03 13:44:00      81.2900\n",
       "2017-04-03 13:45:00      81.4100\n",
       "2017-04-03 13:46:00      81.3500\n",
       "2017-04-03 13:47:00      81.1740\n",
       "2017-04-03 13:48:00      80.9790\n",
       "2017-04-03 13:49:00      80.9700\n",
       "2017-04-03 13:50:00      80.9800\n",
       "2017-04-03 13:51:00      80.9866\n",
       "2017-04-03 13:52:00      81.0500\n",
       "2017-04-03 13:53:00      81.0500\n",
       "2017-04-03 13:54:00      81.0900\n",
       "2017-04-03 13:55:00      81.0900\n",
       "2017-04-03 13:56:00      81.1300\n",
       "2017-04-03 13:57:00      81.1000\n",
       "2017-04-03 13:58:00      81.0650\n",
       "2017-04-03 13:59:00      81.0400\n",
       "...                          ...\n",
       "2017-08-31 19:31:00     101.1000\n",
       "2017-08-31 19:32:00     101.0600\n",
       "2017-08-31 19:33:00     101.0000\n",
       "2017-08-31 19:34:00     101.0200\n",
       "2017-08-31 19:35:00     101.0200\n",
       "2017-08-31 19:36:00     101.0000\n",
       "2017-08-31 19:37:00     101.0150\n",
       "2017-08-31 19:38:00     101.0150\n",
       "2017-08-31 19:39:00     101.0125\n",
       "2017-08-31 19:40:00     101.0000\n",
       "2017-08-31 19:41:00     101.0200\n",
       "2017-08-31 19:42:00     101.0199\n",
       "2017-08-31 19:43:00     100.9500\n",
       "2017-08-31 19:44:00     100.9600\n",
       "2017-08-31 19:45:00     100.9700\n",
       "2017-08-31 19:46:00     100.9400\n",
       "2017-08-31 19:47:00     100.9150\n",
       "2017-08-31 19:48:00     100.9100\n",
       "2017-08-31 19:49:00     100.9000\n",
       "2017-08-31 19:50:00     100.8500\n",
       "2017-08-31 19:51:00     100.9000\n",
       "2017-08-31 19:52:00     100.9200\n",
       "2017-08-31 19:53:00     100.8800\n",
       "2017-08-31 19:54:00     100.8900\n",
       "2017-08-31 19:55:00     100.8800\n",
       "2017-08-31 19:56:00     100.8899\n",
       "2017-08-31 19:57:00     100.8900\n",
       "2017-08-31 19:58:00     100.8800\n",
       "2017-08-31 19:59:00     100.8600\n",
       "2017-08-31 20:00:00     100.8300\n",
       "\n",
       "[41266 rows x 1 columns]"
      ]
     },
     "execution_count": 24,
     "metadata": {},
     "output_type": "execute_result"
    }
   ],
   "source": [
    "\n",
    "ds_CBOE.shift(1)"
   ]
  },
  {
   "cell_type": "code",
   "execution_count": 25,
   "metadata": {},
   "outputs": [
    {
     "name": "stdout",
     "output_type": "stream",
     "text": [
      "28886\n",
      "12380\n"
     ]
    }
   ],
   "source": [
    "X = ds_CBOE.values\n",
    "train = X[0:28886] # 28886 data as train data\n",
    "test = X[28886:] # 12380 data as test data\n",
    "print(train.size)\n",
    "print(test.size)\n",
    "predictions = []"
   ]
  },
  {
   "cell_type": "markdown",
   "metadata": {},
   "source": [
    "# ARIMA model"
   ]
  },
  {
   "cell_type": "code",
   "execution_count": 26,
   "metadata": {},
   "outputs": [],
   "source": [
    "from statsmodels.tsa.arima_model import ARIMA"
   ]
  },
  {
   "cell_type": "code",
   "execution_count": 27,
   "metadata": {},
   "outputs": [],
   "source": [
    "\n",
    "import itertools\n",
    "p=d=q=range(0,6)\n",
    "pdq=list(itertools.product(p,d,q))"
   ]
  },
  {
   "cell_type": "code",
   "execution_count": null,
   "metadata": {},
   "outputs": [
    {
     "name": "stdout",
     "output_type": "stream",
     "text": [
      "(0, 0, 0) 160441.4526311847\n",
      "(0, 0, 1) 120929.59019311\n",
      "(0, 0, 2) 84758.36964536624\n",
      "(0, 0, 3) 55390.6039293513\n",
      "(0, 0, 4) 31372.185204047746\n"
     ]
    }
   ],
   "source": [
    "\n",
    "import warnings\n",
    "warnings.filterwarnings('ignore')\n",
    "for param in pdq:\n",
    "    try:\n",
    "        model_arima = ARIMA(train, order=param)\n",
    "        model_arima_fit = model_arima.fit()\n",
    "        print(param,model_arima_fit.aic)\n",
    "    except:\n",
    "        continue"
   ]
  },
  {
   "cell_type": "code",
   "execution_count": 25,
   "metadata": {},
   "outputs": [
    {
     "name": "stdout",
     "output_type": "stream",
     "text": [
      "-64744.94423435074\n"
     ]
    }
   ],
   "source": [
    "\n",
    "#p,d,q \n",
    "#p -> Periods taken for auto regressive model\n",
    "#d -> Integrated order, difference\n",
    "#q -> Periods in moving average model\n",
    "model_arima = ARIMA(train, order=(4,1,4))\n",
    "model_arima_fit = model_arima.fit()\n",
    "print(model_arima_fit.aic)"
   ]
  },
  {
   "cell_type": "code",
   "execution_count": 26,
   "metadata": {},
   "outputs": [
    {
     "data": {
      "text/plain": [
       "array([150.61361658, 150.61508213, 150.61485932, ..., 153.58414297,\n",
       "       153.58438291, 153.58462284])"
      ]
     },
     "execution_count": 26,
     "metadata": {},
     "output_type": "execute_result"
    }
   ],
   "source": [
    "predictions = model_arima_fit.forecast(steps=12380)[0]\n",
    "predictions"
   ]
  },
  {
   "cell_type": "code",
   "execution_count": 27,
   "metadata": {},
   "outputs": [
    {
     "data": {
      "text/plain": [
       "[<matplotlib.lines.Line2D at 0x1ef1f9212e8>]"
      ]
     },
     "execution_count": 27,
     "metadata": {},
     "output_type": "execute_result"
    },
    {
     "data": {
      "image/png": "[encoded data removed]",
      "text/plain": [
       "<Figure size 432x288 with 1 Axes>"
      ]
     },
     "metadata": {
      "needs_background": "light"
     },
     "output_type": "display_data"
    }
   ],
   "source": [
    "plt.plot(test)\n",
    "plt.plot(predictions, color='red')"
   ]
  },
  {
   "cell_type": "code",
   "execution_count": 28,
   "metadata": {},
   "outputs": [
    {
     "data": {
      "text/plain": [
       "37.55078259648602"
      ]
     },
     "execution_count": 28,
     "metadata": {},
     "output_type": "execute_result"
    }
   ],
   "source": [
    "from sklearn.metrics import mean_squared_error\n",
    "mean_squared_error(test,predictions)"
   ]
  },
  {
   "cell_type": "markdown",
   "metadata": {},
   "source": [
    "\n",
    "# The above forecasting done for NASDAQ.CBOE"
   ]
  },
  {
   "cell_type": "code",
   "execution_count": null,
   "metadata": {},
   "outputs": [],
   "source": []
  }
 ],
 "metadata": {
  "kernelspec": {
   "display_name": "Python 3",
   "language": "python",
   "name": "python3"
  },
  "language_info": {
   "codemirror_mode": {
    "name": "ipython",
    "version": 3
   },
   "file_extension": ".py",
   "mimetype": "text/x-python",
   "name": "python",
   "nbconvert_exporter": "python",
   "pygments_lexer": "ipython3",
   "version": "3.7.0"
  }
 },
 "nbformat": 4,
 "nbformat_minor": 2
}
